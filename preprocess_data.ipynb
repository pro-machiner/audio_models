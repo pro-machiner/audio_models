{
  "nbformat": 4,
  "nbformat_minor": 0,
  "metadata": {
    "colab": {
      "provenance": [],
      "authorship_tag": "ABX9TyNrLSvANauCoqD1fbgU9KSo",
      "include_colab_link": true
    },
    "kernelspec": {
      "name": "python3",
      "display_name": "Python 3"
    },
    "language_info": {
      "name": "python"
    }
  },
  "cells": [
    {
      "cell_type": "markdown",
      "metadata": {
        "id": "view-in-github",
        "colab_type": "text"
      },
      "source": [
        "<a href=\"https://colab.research.google.com/github/pro-machiner/audio_models/blob/main/preprocess_data.ipynb\" target=\"_parent\"><img src=\"https://colab.research.google.com/assets/colab-badge.svg\" alt=\"Open In Colab\"/></a>"
      ]
    },
    {
      "cell_type": "code",
      "execution_count": 1,
      "metadata": {
        "colab": {
          "base_uri": "https://localhost:8080/"
        },
        "id": "QEPPYxTJh4Yk",
        "outputId": "eb2ffdc7-fe87-4d2e-f11c-b36638c54eee"
      },
      "outputs": [
        {
          "output_type": "stream",
          "name": "stdout",
          "text": [
            "Cloning into 'audio_models'...\n",
            "remote: Enumerating objects: 28, done.\u001b[K\n",
            "remote: Counting objects: 100% (28/28), done.\u001b[K\n",
            "remote: Compressing objects: 100% (12/12), done.\u001b[K\n",
            "remote: Total 28 (delta 10), reused 27 (delta 9), pack-reused 0\u001b[K\n",
            "Receiving objects: 100% (28/28), 19.38 MiB | 32.74 MiB/s, done.\n",
            "Resolving deltas: 100% (10/10), done.\n"
          ]
        }
      ],
      "source": [
        "!git clone https://github.com/pro-machiner/audio_models.git"
      ]
    },
    {
      "cell_type": "code",
      "source": [
        "def split_audio()"
      ],
      "metadata": {
        "id": "z0RAPQR0iOHo"
      },
      "execution_count": null,
      "outputs": []
    }
  ]
}